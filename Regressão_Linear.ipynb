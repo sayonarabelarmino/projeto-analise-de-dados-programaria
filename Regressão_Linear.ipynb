{
  "nbformat": 4,
  "nbformat_minor": 0,
  "metadata": {
    "colab": {
      "provenance": [],
      "mount_file_id": "1OANUu5FHMRBN8QSt0w49MFNKx5R6RUEO",
      "authorship_tag": "ABX9TyNwFPm2SPcKLWhHEScRnCja",
      "include_colab_link": true
    },
    "kernelspec": {
      "name": "python3",
      "display_name": "Python 3"
    },
    "language_info": {
      "name": "python"
    }
  },
  "cells": [
    {
      "cell_type": "markdown",
      "metadata": {
        "id": "view-in-github",
        "colab_type": "text"
      },
      "source": [
        "<a href=\"https://colab.research.google.com/github/sayonarabelarmino/projeto-analise-de-dados-programaria/blob/main/Regress%C3%A3o_Linear.ipynb\" target=\"_parent\"><img src=\"https://colab.research.google.com/assets/colab-badge.svg\" alt=\"Open In Colab\"/></a>"
      ]
    },
    {
      "cell_type": "code",
      "execution_count": null,
      "metadata": {
        "id": "IwxfSHVnEZa1"
      },
      "outputs": [],
      "source": [
        "import pandas as pd"
      ]
    },
    {
      "cell_type": "code",
      "source": [
        "dados = pd.read_excel('/content/drive/MyDrive/Analise de Dados com Python - Programaria/analise_dados_mod7_(1).xlsx')"
      ],
      "metadata": {
        "id": "NfQcA39_Eszv"
      },
      "execution_count": null,
      "outputs": []
    },
    {
      "cell_type": "code",
      "source": [
        "dados.head()"
      ],
      "metadata": {
        "colab": {
          "base_uri": "https://localhost:8080/",
          "height": 776
        },
        "id": "--OB8jq9Evud",
        "outputId": "1b08efef-120f-4895-b305-c37c8cf73353"
      },
      "execution_count": null,
      "outputs": [
        {
          "output_type": "execute_result",
          "data": {
            "text/plain": [
              "                                 ID  IDADE FAIXA IDADE     GENERO  \\\n",
              "0  zzqzz3l9ily8nuo2m7wyzzqzz3w48o96   39.0       35-39  Masculino   \n",
              "1  zzls2oftfn9law393oezzls2ofhvfpzd   32.0       30-34  Masculino   \n",
              "2  zzdwqzfqqp1ypc7ps6m0hzzdwqz292yi   53.0       50-54  Masculino   \n",
              "3  zzbqh3uy7yk7k9qmkzzbqtb4s9faqspl   27.0       25-29  Masculino   \n",
              "4  zzaf1m95yan929rb94wzzaf1mekhvhpg   46.0       45-49   Feminino   \n",
              "\n",
              "  COR/RACA/ETNIA  PCD               EXPERIENCIA_PROFISSIONAL_PREJUDICADA  \\\n",
              "0          Parda  Não  Não acredito que minha experiência profissiona...   \n",
              "1          Parda  Não  Sim, acredito que a minha a experiência profis...   \n",
              "2         Branca  Não                                                NaN   \n",
              "3         Branca  Não                                                NaN   \n",
              "4         Branca  Não  Não acredito que minha experiência profissiona...   \n",
              "\n",
              "                          ASPECTOS_PREJUDICADOS  VIVE_NO_BRASIL  \\\n",
              "0                                           NaN            True   \n",
              "1  Aprovação em processos seletivos/entrevistas            True   \n",
              "2                                           NaN            True   \n",
              "3                                           NaN            True   \n",
              "4                                           NaN            True   \n",
              "\n",
              "        ESTADO ONDE MORA  ...  \\\n",
              "0  Distrito Federal (DF)  ...   \n",
              "1              Pará (PA)  ...   \n",
              "2  Distrito Federal (DF)  ...   \n",
              "3      Minas Gerais (MG)  ...   \n",
              "4              Pará (PA)  ...   \n",
              "\n",
              "  Você pretende mudar de emprego nos próximos 6 meses?  \\\n",
              "0  Não estou buscando e não pretendo mudar de emp...     \n",
              "1  Estou em busca de oportunidades dentro ou fora...     \n",
              "2  Não estou buscando, mas me considero aberto a ...     \n",
              "3  Não estou buscando, mas me considero aberto a ...     \n",
              "4  Não estou buscando, mas me considero aberto a ...     \n",
              "\n",
              "  Quais os principais critérios que você leva em consideração no momento de decidir onde trabalhar?  \\\n",
              "0                                         Benefícios                                                  \n",
              "1  Remuneração/Salário, Plano de carreira e oport...                                                  \n",
              "2  Remuneração/Salário, Flexibilidade de trabalho...                                                  \n",
              "3  Remuneração/Salário, Flexibilidade de trabalho...                                                  \n",
              "4  Remuneração/Salário, Oportunidade de aprendiza...                                                  \n",
              "\n",
              "            Atualmente qual a sua forma de trabalho?  \\\n",
              "0                             Modelo 100% presencial   \n",
              "1                             Modelo 100% presencial   \n",
              "2  Modelo híbrido com dias fixos de trabalho pres...   \n",
              "3  Modelo híbrido flexível (o funcionário tem lib...   \n",
              "4                             Modelo 100% presencial   \n",
              "\n",
              "           Qual a forma de trabalho ideal para você?  \\\n",
              "0  Modelo híbrido com dias fixos de trabalho pres...   \n",
              "1  Modelo híbrido flexível (o funcionário tem lib...   \n",
              "2  Modelo híbrido flexível (o funcionário tem lib...   \n",
              "3  Modelo híbrido flexível (o funcionário tem lib...   \n",
              "4                             Modelo 100% presencial   \n",
              "\n",
              "  Caso sua empresa decida pelo modelo 100% presencial qual será sua atitude?  \\\n",
              "0   Vou aceitar e retornar ao modelo 100% presencial                           \n",
              "1   Vou aceitar e retornar ao modelo 100% presencial                           \n",
              "2  Vou procurar outra oportunidade no modelo híbr...                           \n",
              "3  Vou procurar outra oportunidade no modelo híbr...                           \n",
              "4   Vou aceitar e retornar ao modelo 100% presencial                           \n",
              "\n",
              "               Sua empresa passu por Layoff em 2022?  \\\n",
              "0  Não ocorreram layoffs/demissões em massa na em...   \n",
              "1  Não ocorreram layoffs/demissões em massa na em...   \n",
              "2  Não ocorreram layoffs/demissões em massa na em...   \n",
              "3  Não ocorreram layoffs/demissões em massa na em...   \n",
              "4  Não ocorreram layoffs/demissões em massa na em...   \n",
              "\n",
              "                                             Atuacao  \\\n",
              "0                                Engenharia de Dados   \n",
              "1                                             Gestor   \n",
              "2  desenvolve modelos preditivos e algoritmos de ...   \n",
              "3  desenvolve modelos preditivos e algoritmos de ...   \n",
              "4                                      Outra atuação   \n",
              "\n",
              "  Quais das linguagens listadas abaixo você utiliza no trabalho? EM_BUSCA  \\\n",
              "0                                                SQL                  0.0   \n",
              "1                                                NaN                  1.0   \n",
              "2                                                  1                  0.0   \n",
              "3                                                  0                  0.0   \n",
              "4                                                SQL                  0.0   \n",
              "\n",
              "   ABERTO_OPORTUNIDADES  \n",
              "0                   0.0  \n",
              "1                   0.0  \n",
              "2                   1.0  \n",
              "3                   1.0  \n",
              "4                   1.0  \n",
              "\n",
              "[5 rows x 46 columns]"
            ],
            "text/html": [
              "\n",
              "  <div id=\"df-eaf7d978-62d6-45a7-9d8c-06a2db58ddc2\" class=\"colab-df-container\">\n",
              "    <div>\n",
              "<style scoped>\n",
              "    .dataframe tbody tr th:only-of-type {\n",
              "        vertical-align: middle;\n",
              "    }\n",
              "\n",
              "    .dataframe tbody tr th {\n",
              "        vertical-align: top;\n",
              "    }\n",
              "\n",
              "    .dataframe thead th {\n",
              "        text-align: right;\n",
              "    }\n",
              "</style>\n",
              "<table border=\"1\" class=\"dataframe\">\n",
              "  <thead>\n",
              "    <tr style=\"text-align: right;\">\n",
              "      <th></th>\n",
              "      <th>ID</th>\n",
              "      <th>IDADE</th>\n",
              "      <th>FAIXA IDADE</th>\n",
              "      <th>GENERO</th>\n",
              "      <th>COR/RACA/ETNIA</th>\n",
              "      <th>PCD</th>\n",
              "      <th>EXPERIENCIA_PROFISSIONAL_PREJUDICADA</th>\n",
              "      <th>ASPECTOS_PREJUDICADOS</th>\n",
              "      <th>VIVE_NO_BRASIL</th>\n",
              "      <th>ESTADO ONDE MORA</th>\n",
              "      <th>...</th>\n",
              "      <th>Você pretende mudar de emprego nos próximos 6 meses?</th>\n",
              "      <th>Quais os principais critérios que você leva em consideração no momento de decidir onde trabalhar?</th>\n",
              "      <th>Atualmente qual a sua forma de trabalho?</th>\n",
              "      <th>Qual a forma de trabalho ideal para você?</th>\n",
              "      <th>Caso sua empresa decida pelo modelo 100% presencial qual será sua atitude?</th>\n",
              "      <th>Sua empresa passu por Layoff em 2022?</th>\n",
              "      <th>Atuacao</th>\n",
              "      <th>Quais das linguagens listadas abaixo você utiliza no trabalho?</th>\n",
              "      <th>EM_BUSCA</th>\n",
              "      <th>ABERTO_OPORTUNIDADES</th>\n",
              "    </tr>\n",
              "  </thead>\n",
              "  <tbody>\n",
              "    <tr>\n",
              "      <th>0</th>\n",
              "      <td>zzqzz3l9ily8nuo2m7wyzzqzz3w48o96</td>\n",
              "      <td>39.0</td>\n",
              "      <td>35-39</td>\n",
              "      <td>Masculino</td>\n",
              "      <td>Parda</td>\n",
              "      <td>Não</td>\n",
              "      <td>Não acredito que minha experiência profissiona...</td>\n",
              "      <td>NaN</td>\n",
              "      <td>True</td>\n",
              "      <td>Distrito Federal (DF)</td>\n",
              "      <td>...</td>\n",
              "      <td>Não estou buscando e não pretendo mudar de emp...</td>\n",
              "      <td>Benefícios</td>\n",
              "      <td>Modelo 100% presencial</td>\n",
              "      <td>Modelo híbrido com dias fixos de trabalho pres...</td>\n",
              "      <td>Vou aceitar e retornar ao modelo 100% presencial</td>\n",
              "      <td>Não ocorreram layoffs/demissões em massa na em...</td>\n",
              "      <td>Engenharia de Dados</td>\n",
              "      <td>SQL</td>\n",
              "      <td>0.0</td>\n",
              "      <td>0.0</td>\n",
              "    </tr>\n",
              "    <tr>\n",
              "      <th>1</th>\n",
              "      <td>zzls2oftfn9law393oezzls2ofhvfpzd</td>\n",
              "      <td>32.0</td>\n",
              "      <td>30-34</td>\n",
              "      <td>Masculino</td>\n",
              "      <td>Parda</td>\n",
              "      <td>Não</td>\n",
              "      <td>Sim, acredito que a minha a experiência profis...</td>\n",
              "      <td>Aprovação em processos seletivos/entrevistas</td>\n",
              "      <td>True</td>\n",
              "      <td>Pará (PA)</td>\n",
              "      <td>...</td>\n",
              "      <td>Estou em busca de oportunidades dentro ou fora...</td>\n",
              "      <td>Remuneração/Salário, Plano de carreira e oport...</td>\n",
              "      <td>Modelo 100% presencial</td>\n",
              "      <td>Modelo híbrido flexível (o funcionário tem lib...</td>\n",
              "      <td>Vou aceitar e retornar ao modelo 100% presencial</td>\n",
              "      <td>Não ocorreram layoffs/demissões em massa na em...</td>\n",
              "      <td>Gestor</td>\n",
              "      <td>NaN</td>\n",
              "      <td>1.0</td>\n",
              "      <td>0.0</td>\n",
              "    </tr>\n",
              "    <tr>\n",
              "      <th>2</th>\n",
              "      <td>zzdwqzfqqp1ypc7ps6m0hzzdwqz292yi</td>\n",
              "      <td>53.0</td>\n",
              "      <td>50-54</td>\n",
              "      <td>Masculino</td>\n",
              "      <td>Branca</td>\n",
              "      <td>Não</td>\n",
              "      <td>NaN</td>\n",
              "      <td>NaN</td>\n",
              "      <td>True</td>\n",
              "      <td>Distrito Federal (DF)</td>\n",
              "      <td>...</td>\n",
              "      <td>Não estou buscando, mas me considero aberto a ...</td>\n",
              "      <td>Remuneração/Salário, Flexibilidade de trabalho...</td>\n",
              "      <td>Modelo híbrido com dias fixos de trabalho pres...</td>\n",
              "      <td>Modelo híbrido flexível (o funcionário tem lib...</td>\n",
              "      <td>Vou procurar outra oportunidade no modelo híbr...</td>\n",
              "      <td>Não ocorreram layoffs/demissões em massa na em...</td>\n",
              "      <td>desenvolve modelos preditivos e algoritmos de ...</td>\n",
              "      <td>1</td>\n",
              "      <td>0.0</td>\n",
              "      <td>1.0</td>\n",
              "    </tr>\n",
              "    <tr>\n",
              "      <th>3</th>\n",
              "      <td>zzbqh3uy7yk7k9qmkzzbqtb4s9faqspl</td>\n",
              "      <td>27.0</td>\n",
              "      <td>25-29</td>\n",
              "      <td>Masculino</td>\n",
              "      <td>Branca</td>\n",
              "      <td>Não</td>\n",
              "      <td>NaN</td>\n",
              "      <td>NaN</td>\n",
              "      <td>True</td>\n",
              "      <td>Minas Gerais (MG)</td>\n",
              "      <td>...</td>\n",
              "      <td>Não estou buscando, mas me considero aberto a ...</td>\n",
              "      <td>Remuneração/Salário, Flexibilidade de trabalho...</td>\n",
              "      <td>Modelo híbrido flexível (o funcionário tem lib...</td>\n",
              "      <td>Modelo híbrido flexível (o funcionário tem lib...</td>\n",
              "      <td>Vou procurar outra oportunidade no modelo híbr...</td>\n",
              "      <td>Não ocorreram layoffs/demissões em massa na em...</td>\n",
              "      <td>desenvolve modelos preditivos e algoritmos de ...</td>\n",
              "      <td>0</td>\n",
              "      <td>0.0</td>\n",
              "      <td>1.0</td>\n",
              "    </tr>\n",
              "    <tr>\n",
              "      <th>4</th>\n",
              "      <td>zzaf1m95yan929rb94wzzaf1mekhvhpg</td>\n",
              "      <td>46.0</td>\n",
              "      <td>45-49</td>\n",
              "      <td>Feminino</td>\n",
              "      <td>Branca</td>\n",
              "      <td>Não</td>\n",
              "      <td>Não acredito que minha experiência profissiona...</td>\n",
              "      <td>NaN</td>\n",
              "      <td>True</td>\n",
              "      <td>Pará (PA)</td>\n",
              "      <td>...</td>\n",
              "      <td>Não estou buscando, mas me considero aberto a ...</td>\n",
              "      <td>Remuneração/Salário, Oportunidade de aprendiza...</td>\n",
              "      <td>Modelo 100% presencial</td>\n",
              "      <td>Modelo 100% presencial</td>\n",
              "      <td>Vou aceitar e retornar ao modelo 100% presencial</td>\n",
              "      <td>Não ocorreram layoffs/demissões em massa na em...</td>\n",
              "      <td>Outra atuação</td>\n",
              "      <td>SQL</td>\n",
              "      <td>0.0</td>\n",
              "      <td>1.0</td>\n",
              "    </tr>\n",
              "  </tbody>\n",
              "</table>\n",
              "<p>5 rows × 46 columns</p>\n",
              "</div>\n",
              "    <div class=\"colab-df-buttons\">\n",
              "\n",
              "  <div class=\"colab-df-container\">\n",
              "    <button class=\"colab-df-convert\" onclick=\"convertToInteractive('df-eaf7d978-62d6-45a7-9d8c-06a2db58ddc2')\"\n",
              "            title=\"Convert this dataframe to an interactive table.\"\n",
              "            style=\"display:none;\">\n",
              "\n",
              "  <svg xmlns=\"http://www.w3.org/2000/svg\" height=\"24px\" viewBox=\"0 -960 960 960\">\n",
              "    <path d=\"M120-120v-720h720v720H120Zm60-500h600v-160H180v160Zm220 220h160v-160H400v160Zm0 220h160v-160H400v160ZM180-400h160v-160H180v160Zm440 0h160v-160H620v160ZM180-180h160v-160H180v160Zm440 0h160v-160H620v160Z\"/>\n",
              "  </svg>\n",
              "    </button>\n",
              "\n",
              "  <style>\n",
              "    .colab-df-container {\n",
              "      display:flex;\n",
              "      gap: 12px;\n",
              "    }\n",
              "\n",
              "    .colab-df-convert {\n",
              "      background-color: #E8F0FE;\n",
              "      border: none;\n",
              "      border-radius: 50%;\n",
              "      cursor: pointer;\n",
              "      display: none;\n",
              "      fill: #1967D2;\n",
              "      height: 32px;\n",
              "      padding: 0 0 0 0;\n",
              "      width: 32px;\n",
              "    }\n",
              "\n",
              "    .colab-df-convert:hover {\n",
              "      background-color: #E2EBFA;\n",
              "      box-shadow: 0px 1px 2px rgba(60, 64, 67, 0.3), 0px 1px 3px 1px rgba(60, 64, 67, 0.15);\n",
              "      fill: #174EA6;\n",
              "    }\n",
              "\n",
              "    .colab-df-buttons div {\n",
              "      margin-bottom: 4px;\n",
              "    }\n",
              "\n",
              "    [theme=dark] .colab-df-convert {\n",
              "      background-color: #3B4455;\n",
              "      fill: #D2E3FC;\n",
              "    }\n",
              "\n",
              "    [theme=dark] .colab-df-convert:hover {\n",
              "      background-color: #434B5C;\n",
              "      box-shadow: 0px 1px 3px 1px rgba(0, 0, 0, 0.15);\n",
              "      filter: drop-shadow(0px 1px 2px rgba(0, 0, 0, 0.3));\n",
              "      fill: #FFFFFF;\n",
              "    }\n",
              "  </style>\n",
              "\n",
              "    <script>\n",
              "      const buttonEl =\n",
              "        document.querySelector('#df-eaf7d978-62d6-45a7-9d8c-06a2db58ddc2 button.colab-df-convert');\n",
              "      buttonEl.style.display =\n",
              "        google.colab.kernel.accessAllowed ? 'block' : 'none';\n",
              "\n",
              "      async function convertToInteractive(key) {\n",
              "        const element = document.querySelector('#df-eaf7d978-62d6-45a7-9d8c-06a2db58ddc2');\n",
              "        const dataTable =\n",
              "          await google.colab.kernel.invokeFunction('convertToInteractive',\n",
              "                                                    [key], {});\n",
              "        if (!dataTable) return;\n",
              "\n",
              "        const docLinkHtml = 'Like what you see? Visit the ' +\n",
              "          '<a target=\"_blank\" href=https://colab.research.google.com/notebooks/data_table.ipynb>data table notebook</a>'\n",
              "          + ' to learn more about interactive tables.';\n",
              "        element.innerHTML = '';\n",
              "        dataTable['output_type'] = 'display_data';\n",
              "        await google.colab.output.renderOutput(dataTable, element);\n",
              "        const docLink = document.createElement('div');\n",
              "        docLink.innerHTML = docLinkHtml;\n",
              "        element.appendChild(docLink);\n",
              "      }\n",
              "    </script>\n",
              "  </div>\n",
              "\n",
              "\n",
              "<div id=\"df-a2dff7b8-ac30-4699-92d3-52913b921072\">\n",
              "  <button class=\"colab-df-quickchart\" onclick=\"quickchart('df-a2dff7b8-ac30-4699-92d3-52913b921072')\"\n",
              "            title=\"Suggest charts\"\n",
              "            style=\"display:none;\">\n",
              "\n",
              "<svg xmlns=\"http://www.w3.org/2000/svg\" height=\"24px\"viewBox=\"0 0 24 24\"\n",
              "     width=\"24px\">\n",
              "    <g>\n",
              "        <path d=\"M19 3H5c-1.1 0-2 .9-2 2v14c0 1.1.9 2 2 2h14c1.1 0 2-.9 2-2V5c0-1.1-.9-2-2-2zM9 17H7v-7h2v7zm4 0h-2V7h2v10zm4 0h-2v-4h2v4z\"/>\n",
              "    </g>\n",
              "</svg>\n",
              "  </button>\n",
              "\n",
              "<style>\n",
              "  .colab-df-quickchart {\n",
              "      --bg-color: #E8F0FE;\n",
              "      --fill-color: #1967D2;\n",
              "      --hover-bg-color: #E2EBFA;\n",
              "      --hover-fill-color: #174EA6;\n",
              "      --disabled-fill-color: #AAA;\n",
              "      --disabled-bg-color: #DDD;\n",
              "  }\n",
              "\n",
              "  [theme=dark] .colab-df-quickchart {\n",
              "      --bg-color: #3B4455;\n",
              "      --fill-color: #D2E3FC;\n",
              "      --hover-bg-color: #434B5C;\n",
              "      --hover-fill-color: #FFFFFF;\n",
              "      --disabled-bg-color: #3B4455;\n",
              "      --disabled-fill-color: #666;\n",
              "  }\n",
              "\n",
              "  .colab-df-quickchart {\n",
              "    background-color: var(--bg-color);\n",
              "    border: none;\n",
              "    border-radius: 50%;\n",
              "    cursor: pointer;\n",
              "    display: none;\n",
              "    fill: var(--fill-color);\n",
              "    height: 32px;\n",
              "    padding: 0;\n",
              "    width: 32px;\n",
              "  }\n",
              "\n",
              "  .colab-df-quickchart:hover {\n",
              "    background-color: var(--hover-bg-color);\n",
              "    box-shadow: 0 1px 2px rgba(60, 64, 67, 0.3), 0 1px 3px 1px rgba(60, 64, 67, 0.15);\n",
              "    fill: var(--button-hover-fill-color);\n",
              "  }\n",
              "\n",
              "  .colab-df-quickchart-complete:disabled,\n",
              "  .colab-df-quickchart-complete:disabled:hover {\n",
              "    background-color: var(--disabled-bg-color);\n",
              "    fill: var(--disabled-fill-color);\n",
              "    box-shadow: none;\n",
              "  }\n",
              "\n",
              "  .colab-df-spinner {\n",
              "    border: 2px solid var(--fill-color);\n",
              "    border-color: transparent;\n",
              "    border-bottom-color: var(--fill-color);\n",
              "    animation:\n",
              "      spin 1s steps(1) infinite;\n",
              "  }\n",
              "\n",
              "  @keyframes spin {\n",
              "    0% {\n",
              "      border-color: transparent;\n",
              "      border-bottom-color: var(--fill-color);\n",
              "      border-left-color: var(--fill-color);\n",
              "    }\n",
              "    20% {\n",
              "      border-color: transparent;\n",
              "      border-left-color: var(--fill-color);\n",
              "      border-top-color: var(--fill-color);\n",
              "    }\n",
              "    30% {\n",
              "      border-color: transparent;\n",
              "      border-left-color: var(--fill-color);\n",
              "      border-top-color: var(--fill-color);\n",
              "      border-right-color: var(--fill-color);\n",
              "    }\n",
              "    40% {\n",
              "      border-color: transparent;\n",
              "      border-right-color: var(--fill-color);\n",
              "      border-top-color: var(--fill-color);\n",
              "    }\n",
              "    60% {\n",
              "      border-color: transparent;\n",
              "      border-right-color: var(--fill-color);\n",
              "    }\n",
              "    80% {\n",
              "      border-color: transparent;\n",
              "      border-right-color: var(--fill-color);\n",
              "      border-bottom-color: var(--fill-color);\n",
              "    }\n",
              "    90% {\n",
              "      border-color: transparent;\n",
              "      border-bottom-color: var(--fill-color);\n",
              "    }\n",
              "  }\n",
              "</style>\n",
              "\n",
              "  <script>\n",
              "    async function quickchart(key) {\n",
              "      const quickchartButtonEl =\n",
              "        document.querySelector('#' + key + ' button');\n",
              "      quickchartButtonEl.disabled = true;  // To prevent multiple clicks.\n",
              "      quickchartButtonEl.classList.add('colab-df-spinner');\n",
              "      try {\n",
              "        const charts = await google.colab.kernel.invokeFunction(\n",
              "            'suggestCharts', [key], {});\n",
              "      } catch (error) {\n",
              "        console.error('Error during call to suggestCharts:', error);\n",
              "      }\n",
              "      quickchartButtonEl.classList.remove('colab-df-spinner');\n",
              "      quickchartButtonEl.classList.add('colab-df-quickchart-complete');\n",
              "    }\n",
              "    (() => {\n",
              "      let quickchartButtonEl =\n",
              "        document.querySelector('#df-a2dff7b8-ac30-4699-92d3-52913b921072 button');\n",
              "      quickchartButtonEl.style.display =\n",
              "        google.colab.kernel.accessAllowed ? 'block' : 'none';\n",
              "    })();\n",
              "  </script>\n",
              "</div>\n",
              "\n",
              "    </div>\n",
              "  </div>\n"
            ],
            "application/vnd.google.colaboratory.intrinsic+json": {
              "type": "dataframe",
              "variable_name": "dados"
            }
          },
          "metadata": {},
          "execution_count": 5
        }
      ]
    },
    {
      "cell_type": "code",
      "source": [
        "dados[\"QUAL SUA SITUAÇÃO ATUAL DE TRABALHO?\"].value_counts()"
      ],
      "metadata": {
        "colab": {
          "base_uri": "https://localhost:8080/",
          "height": 523
        },
        "id": "4v-L1fJxE4IV",
        "outputId": "6d7a9c3d-7cfd-4ee6-8684-66c7af1dc19c"
      },
      "execution_count": null,
      "outputs": [
        {
          "output_type": "execute_result",
          "data": {
            "text/plain": [
              "QUAL SUA SITUAÇÃO ATUAL DE TRABALHO?\n",
              "Empregado (CLT)                                                    2762\n",
              "Empreendedor ou Empregado (CNPJ)                                    410\n",
              "Desempregado, buscando recolocação                                  350\n",
              "Estagiário                                                          188\n",
              "Servidor Público                                                    156\n",
              "Trabalho na área Acadêmica/Pesquisador                               86\n",
              "Somente Estudante (graduação)                                        82\n",
              "Vivo no Brasil e trabalho remoto para empresa de fora do Brasil      69\n",
              "Vivo fora do Brasil e trabalho para empresa de fora do Brasil        46\n",
              "Somente Estudante (pós-graduação)                                    44\n",
              "Freelancer                                                           39\n",
              "Prefiro não informar                                                 24\n",
              "Desempregado e não estou buscando recolocação                        15\n",
              "Name: count, dtype: int64"
            ],
            "text/html": [
              "<div>\n",
              "<style scoped>\n",
              "    .dataframe tbody tr th:only-of-type {\n",
              "        vertical-align: middle;\n",
              "    }\n",
              "\n",
              "    .dataframe tbody tr th {\n",
              "        vertical-align: top;\n",
              "    }\n",
              "\n",
              "    .dataframe thead th {\n",
              "        text-align: right;\n",
              "    }\n",
              "</style>\n",
              "<table border=\"1\" class=\"dataframe\">\n",
              "  <thead>\n",
              "    <tr style=\"text-align: right;\">\n",
              "      <th></th>\n",
              "      <th>count</th>\n",
              "    </tr>\n",
              "    <tr>\n",
              "      <th>QUAL SUA SITUAÇÃO ATUAL DE TRABALHO?</th>\n",
              "      <th></th>\n",
              "    </tr>\n",
              "  </thead>\n",
              "  <tbody>\n",
              "    <tr>\n",
              "      <th>Empregado (CLT)</th>\n",
              "      <td>2762</td>\n",
              "    </tr>\n",
              "    <tr>\n",
              "      <th>Empreendedor ou Empregado (CNPJ)</th>\n",
              "      <td>410</td>\n",
              "    </tr>\n",
              "    <tr>\n",
              "      <th>Desempregado, buscando recolocação</th>\n",
              "      <td>350</td>\n",
              "    </tr>\n",
              "    <tr>\n",
              "      <th>Estagiário</th>\n",
              "      <td>188</td>\n",
              "    </tr>\n",
              "    <tr>\n",
              "      <th>Servidor Público</th>\n",
              "      <td>156</td>\n",
              "    </tr>\n",
              "    <tr>\n",
              "      <th>Trabalho na área Acadêmica/Pesquisador</th>\n",
              "      <td>86</td>\n",
              "    </tr>\n",
              "    <tr>\n",
              "      <th>Somente Estudante (graduação)</th>\n",
              "      <td>82</td>\n",
              "    </tr>\n",
              "    <tr>\n",
              "      <th>Vivo no Brasil e trabalho remoto para empresa de fora do Brasil</th>\n",
              "      <td>69</td>\n",
              "    </tr>\n",
              "    <tr>\n",
              "      <th>Vivo fora do Brasil e trabalho para empresa de fora do Brasil</th>\n",
              "      <td>46</td>\n",
              "    </tr>\n",
              "    <tr>\n",
              "      <th>Somente Estudante (pós-graduação)</th>\n",
              "      <td>44</td>\n",
              "    </tr>\n",
              "    <tr>\n",
              "      <th>Freelancer</th>\n",
              "      <td>39</td>\n",
              "    </tr>\n",
              "    <tr>\n",
              "      <th>Prefiro não informar</th>\n",
              "      <td>24</td>\n",
              "    </tr>\n",
              "    <tr>\n",
              "      <th>Desempregado e não estou buscando recolocação</th>\n",
              "      <td>15</td>\n",
              "    </tr>\n",
              "  </tbody>\n",
              "</table>\n",
              "</div><br><label><b>dtype:</b> int64</label>"
            ]
          },
          "metadata": {},
          "execution_count": 6
        }
      ]
    },
    {
      "cell_type": "code",
      "source": [
        "dados= dados[dados['QUAL SUA SITUAÇÃO ATUAL DE TRABALHO?'] =='Empregado (CLT)']"
      ],
      "metadata": {
        "id": "tCba31Y8E7H9"
      },
      "execution_count": null,
      "outputs": []
    },
    {
      "cell_type": "code",
      "source": [
        "dados[\"QUAL SUA SITUAÇÃO ATUAL DE TRABALHO?\"].value_counts()"
      ],
      "metadata": {
        "colab": {
          "base_uri": "https://localhost:8080/",
          "height": 147
        },
        "id": "XnB-jJWOFDyd",
        "outputId": "daf3f001-d678-4b1a-8be5-29b0cda33d3c"
      },
      "execution_count": null,
      "outputs": [
        {
          "output_type": "execute_result",
          "data": {
            "text/plain": [
              "QUAL SUA SITUAÇÃO ATUAL DE TRABALHO?\n",
              "Empregado (CLT)    2762\n",
              "Name: count, dtype: int64"
            ],
            "text/html": [
              "<div>\n",
              "<style scoped>\n",
              "    .dataframe tbody tr th:only-of-type {\n",
              "        vertical-align: middle;\n",
              "    }\n",
              "\n",
              "    .dataframe tbody tr th {\n",
              "        vertical-align: top;\n",
              "    }\n",
              "\n",
              "    .dataframe thead th {\n",
              "        text-align: right;\n",
              "    }\n",
              "</style>\n",
              "<table border=\"1\" class=\"dataframe\">\n",
              "  <thead>\n",
              "    <tr style=\"text-align: right;\">\n",
              "      <th></th>\n",
              "      <th>count</th>\n",
              "    </tr>\n",
              "    <tr>\n",
              "      <th>QUAL SUA SITUAÇÃO ATUAL DE TRABALHO?</th>\n",
              "      <th></th>\n",
              "    </tr>\n",
              "  </thead>\n",
              "  <tbody>\n",
              "    <tr>\n",
              "      <th>Empregado (CLT)</th>\n",
              "      <td>2762</td>\n",
              "    </tr>\n",
              "  </tbody>\n",
              "</table>\n",
              "</div><br><label><b>dtype:</b> int64</label>"
            ]
          },
          "metadata": {},
          "execution_count": 8
        }
      ]
    },
    {
      "cell_type": "code",
      "source": [
        "dados.columns"
      ],
      "metadata": {
        "colab": {
          "base_uri": "https://localhost:8080/"
        },
        "id": "9U5VXR_2FUsf",
        "outputId": "6fc5a882-2ce2-426a-87db-0a85dc66d9e3"
      },
      "execution_count": null,
      "outputs": [
        {
          "output_type": "execute_result",
          "data": {
            "text/plain": [
              "Index(['ID', 'IDADE', 'FAIXA IDADE', 'GENERO', 'COR/RACA/ETNIA', 'PCD',\n",
              "       'EXPERIENCIA_PROFISSIONAL_PREJUDICADA', 'ASPECTOS_PREJUDICADOS',\n",
              "       'VIVE_NO_BRASIL', 'ESTADO ONDE MORA', 'UF ONDE MORA',\n",
              "       'REGIAO ONDE MORA', 'MUDOU DE ESTADO?', 'REGIAO DE ORIGEM',\n",
              "       'NIVEL DE ENSINO', 'ÁREA DE FORMAÇÃO',\n",
              "       'QUAL SUA SITUAÇÃO ATUAL DE TRABALHO?', 'SETOR',\n",
              "       'NUMERO DE FUNCIONARIOS', 'GESTOR?', 'CARGO COMO GESTOR', 'CARGO ATUAL',\n",
              "       'FAIXA SALARIAL',\n",
              "       'QUANTO TEMPO DE EXPERIÊNCIA NA ÁREA DE DADOS VOCÊ TEM?',\n",
              "       'QUANTO TEMPO DE EXPERIÊNCIA NA ÁREA DE TI/ENGENHARIA DE SOFTWARE VOCÊ TEVE ANTES DE COMEÇAR A TRABALHAR NA ÁREA DE DADOS?',\n",
              "       'SALARIO', 'NOVO_NIVEL', 'NIVEL_Júnior', 'NIVEL_Pleno', 'NIVEL_Sênior',\n",
              "       'GEARACAO', 'Quanto tempo de experiência na área de dados você tem?',\n",
              "       'Quanto tempo de experiência na área de TI/Engenharia de Software você teve antes de começar a trabalhar na área de dados?',\n",
              "       'Você está satisfeito na sua empresa atual?',\n",
              "       'Qual o principal motivo da sua insatisfação com a empresa atual?',\n",
              "       'Você participou de entrevistas de emprego nos últimos 6 meses?',\n",
              "       'Você pretende mudar de emprego nos próximos 6 meses?',\n",
              "       'Quais os principais critérios que você leva em consideração no momento de decidir onde trabalhar?',\n",
              "       'Atualmente qual a sua forma de trabalho?',\n",
              "       'Qual a forma de trabalho ideal para você?',\n",
              "       'Caso sua empresa decida pelo modelo 100% presencial qual será sua atitude?',\n",
              "       'Sua empresa passu por Layoff em 2022?', 'Atuacao',\n",
              "       'Quais das linguagens listadas abaixo você utiliza no trabalho?',\n",
              "       'EM_BUSCA', 'ABERTO_OPORTUNIDADES'],\n",
              "      dtype='object')"
            ]
          },
          "metadata": {},
          "execution_count": 9
        }
      ]
    },
    {
      "cell_type": "code",
      "source": [
        "dados[\"COR/RACA/ETNIA\"].value_counts()"
      ],
      "metadata": {
        "colab": {
          "base_uri": "https://localhost:8080/",
          "height": 335
        },
        "id": "U5T6vs0PFHNV",
        "outputId": "20f2f7ef-b787-471c-80db-9fde4cf609ca"
      },
      "execution_count": null,
      "outputs": [
        {
          "output_type": "execute_result",
          "data": {
            "text/plain": [
              "COR/RACA/ETNIA\n",
              "Branca                  1805\n",
              "Parda                    661\n",
              "Preta                    181\n",
              "Amarela                   85\n",
              "Prefiro não informar      16\n",
              "Outra                     10\n",
              "Indígena                   4\n",
              "Name: count, dtype: int64"
            ],
            "text/html": [
              "<div>\n",
              "<style scoped>\n",
              "    .dataframe tbody tr th:only-of-type {\n",
              "        vertical-align: middle;\n",
              "    }\n",
              "\n",
              "    .dataframe tbody tr th {\n",
              "        vertical-align: top;\n",
              "    }\n",
              "\n",
              "    .dataframe thead th {\n",
              "        text-align: right;\n",
              "    }\n",
              "</style>\n",
              "<table border=\"1\" class=\"dataframe\">\n",
              "  <thead>\n",
              "    <tr style=\"text-align: right;\">\n",
              "      <th></th>\n",
              "      <th>count</th>\n",
              "    </tr>\n",
              "    <tr>\n",
              "      <th>COR/RACA/ETNIA</th>\n",
              "      <th></th>\n",
              "    </tr>\n",
              "  </thead>\n",
              "  <tbody>\n",
              "    <tr>\n",
              "      <th>Branca</th>\n",
              "      <td>1805</td>\n",
              "    </tr>\n",
              "    <tr>\n",
              "      <th>Parda</th>\n",
              "      <td>661</td>\n",
              "    </tr>\n",
              "    <tr>\n",
              "      <th>Preta</th>\n",
              "      <td>181</td>\n",
              "    </tr>\n",
              "    <tr>\n",
              "      <th>Amarela</th>\n",
              "      <td>85</td>\n",
              "    </tr>\n",
              "    <tr>\n",
              "      <th>Prefiro não informar</th>\n",
              "      <td>16</td>\n",
              "    </tr>\n",
              "    <tr>\n",
              "      <th>Outra</th>\n",
              "      <td>10</td>\n",
              "    </tr>\n",
              "    <tr>\n",
              "      <th>Indígena</th>\n",
              "      <td>4</td>\n",
              "    </tr>\n",
              "  </tbody>\n",
              "</table>\n",
              "</div><br><label><b>dtype:</b> int64</label>"
            ]
          },
          "metadata": {},
          "execution_count": 10
        }
      ]
    },
    {
      "cell_type": "code",
      "source": [
        "lista_retirar = ['Prefiro não informar', 'Outra', 'Indígena']"
      ],
      "metadata": {
        "id": "NrQI6Sl2FbAN"
      },
      "execution_count": null,
      "outputs": []
    },
    {
      "cell_type": "code",
      "source": [
        "dados = dados= dados[~dados['COR/RACA/ETNIA'].isin(lista_retirar)]"
      ],
      "metadata": {
        "id": "mOkZXSHdFzrC"
      },
      "execution_count": null,
      "outputs": []
    },
    {
      "cell_type": "code",
      "source": [
        "dados['NÃO_BRANCA'] = dados['COR/RACA/ETNIA'].apply(lambda x: 1 if x!= 'Branca' else 0 )"
      ],
      "metadata": {
        "id": "qFr_tiiCGSxW"
      },
      "execution_count": null,
      "outputs": []
    },
    {
      "cell_type": "code",
      "source": [
        "dados['QUANTO TEMPO DE EXPERIÊNCIA NA ÁREA DE DADOS VOCÊ TEM?'].value_counts()"
      ],
      "metadata": {
        "colab": {
          "base_uri": "https://localhost:8080/",
          "height": 335
        },
        "id": "DZodd1x8Gt_v",
        "outputId": "4983c45f-f0f6-45e4-9ff0-5382dedc05cf"
      },
      "execution_count": null,
      "outputs": [
        {
          "output_type": "execute_result",
          "data": {
            "text/plain": [
              "QUANTO TEMPO DE EXPERIÊNCIA NA ÁREA DE DADOS VOCÊ TEM?\n",
              "de 1 a 2 anos                             743\n",
              "de 3 a 4 anos                             584\n",
              "de 4 a 6 anos                             416\n",
              "Menos de 1 ano                            353\n",
              "Mais de 10 anos                           277\n",
              "de 7 a 10 anos                            232\n",
              "Não tenho experiência na área de dados    127\n",
              "Name: count, dtype: int64"
            ],
            "text/html": [
              "<div>\n",
              "<style scoped>\n",
              "    .dataframe tbody tr th:only-of-type {\n",
              "        vertical-align: middle;\n",
              "    }\n",
              "\n",
              "    .dataframe tbody tr th {\n",
              "        vertical-align: top;\n",
              "    }\n",
              "\n",
              "    .dataframe thead th {\n",
              "        text-align: right;\n",
              "    }\n",
              "</style>\n",
              "<table border=\"1\" class=\"dataframe\">\n",
              "  <thead>\n",
              "    <tr style=\"text-align: right;\">\n",
              "      <th></th>\n",
              "      <th>count</th>\n",
              "    </tr>\n",
              "    <tr>\n",
              "      <th>QUANTO TEMPO DE EXPERIÊNCIA NA ÁREA DE DADOS VOCÊ TEM?</th>\n",
              "      <th></th>\n",
              "    </tr>\n",
              "  </thead>\n",
              "  <tbody>\n",
              "    <tr>\n",
              "      <th>de 1 a 2 anos</th>\n",
              "      <td>743</td>\n",
              "    </tr>\n",
              "    <tr>\n",
              "      <th>de 3 a 4 anos</th>\n",
              "      <td>584</td>\n",
              "    </tr>\n",
              "    <tr>\n",
              "      <th>de 4 a 6 anos</th>\n",
              "      <td>416</td>\n",
              "    </tr>\n",
              "    <tr>\n",
              "      <th>Menos de 1 ano</th>\n",
              "      <td>353</td>\n",
              "    </tr>\n",
              "    <tr>\n",
              "      <th>Mais de 10 anos</th>\n",
              "      <td>277</td>\n",
              "    </tr>\n",
              "    <tr>\n",
              "      <th>de 7 a 10 anos</th>\n",
              "      <td>232</td>\n",
              "    </tr>\n",
              "    <tr>\n",
              "      <th>Não tenho experiência na área de dados</th>\n",
              "      <td>127</td>\n",
              "    </tr>\n",
              "  </tbody>\n",
              "</table>\n",
              "</div><br><label><b>dtype:</b> int64</label>"
            ]
          },
          "metadata": {},
          "execution_count": 14
        }
      ]
    },
    {
      "cell_type": "code",
      "source": [
        "dados ['TEMPO_EXPERIENCIA']= dados['QUANTO TEMPO DE EXPERIÊNCIA NA ÁREA DE DADOS VOCÊ TEM?'].str.extract(r'(\\d+)')"
      ],
      "metadata": {
        "id": "b0a4X3_FG9m6"
      },
      "execution_count": null,
      "outputs": []
    },
    {
      "cell_type": "code",
      "source": [
        "dados ['TEMPO_EXPERIENCIA'].value_counts()"
      ],
      "metadata": {
        "colab": {
          "base_uri": "https://localhost:8080/",
          "height": 272
        },
        "id": "OUeFmq3_IAA3",
        "outputId": "4cef7c5d-d5c1-42fd-ae44-be67e8b01d1d"
      },
      "execution_count": null,
      "outputs": [
        {
          "output_type": "execute_result",
          "data": {
            "text/plain": [
              "TEMPO_EXPERIENCIA\n",
              "1     1096\n",
              "3      584\n",
              "4      416\n",
              "10     277\n",
              "7      232\n",
              "Name: count, dtype: int64"
            ],
            "text/html": [
              "<div>\n",
              "<style scoped>\n",
              "    .dataframe tbody tr th:only-of-type {\n",
              "        vertical-align: middle;\n",
              "    }\n",
              "\n",
              "    .dataframe tbody tr th {\n",
              "        vertical-align: top;\n",
              "    }\n",
              "\n",
              "    .dataframe thead th {\n",
              "        text-align: right;\n",
              "    }\n",
              "</style>\n",
              "<table border=\"1\" class=\"dataframe\">\n",
              "  <thead>\n",
              "    <tr style=\"text-align: right;\">\n",
              "      <th></th>\n",
              "      <th>count</th>\n",
              "    </tr>\n",
              "    <tr>\n",
              "      <th>TEMPO_EXPERIENCIA</th>\n",
              "      <th></th>\n",
              "    </tr>\n",
              "  </thead>\n",
              "  <tbody>\n",
              "    <tr>\n",
              "      <th>1</th>\n",
              "      <td>1096</td>\n",
              "    </tr>\n",
              "    <tr>\n",
              "      <th>3</th>\n",
              "      <td>584</td>\n",
              "    </tr>\n",
              "    <tr>\n",
              "      <th>4</th>\n",
              "      <td>416</td>\n",
              "    </tr>\n",
              "    <tr>\n",
              "      <th>10</th>\n",
              "      <td>277</td>\n",
              "    </tr>\n",
              "    <tr>\n",
              "      <th>7</th>\n",
              "      <td>232</td>\n",
              "    </tr>\n",
              "  </tbody>\n",
              "</table>\n",
              "</div><br><label><b>dtype:</b> int64</label>"
            ]
          },
          "metadata": {},
          "execution_count": 16
        }
      ]
    },
    {
      "cell_type": "code",
      "source": [
        "dados['NUMERO DE FUNCIONARIOS'].value_counts()"
      ],
      "metadata": {
        "colab": {
          "base_uri": "https://localhost:8080/",
          "height": 366
        },
        "id": "omJgPQ9RIF99",
        "outputId": "ae04d541-9393-44b6-d5e0-d04028dd18d0"
      },
      "execution_count": null,
      "outputs": [
        {
          "output_type": "execute_result",
          "data": {
            "text/plain": [
              "NUMERO DE FUNCIONARIOS\n",
              "Acima de 3.000      1313\n",
              "de 101 a 500         503\n",
              "de 1.001 a 3.000     368\n",
              "de 501 a 1.000       248\n",
              "de 51 a 100          146\n",
              "de 11 a 50           112\n",
              "de 6 a 10             24\n",
              "de 1 a 5              18\n",
              "Name: count, dtype: int64"
            ],
            "text/html": [
              "<div>\n",
              "<style scoped>\n",
              "    .dataframe tbody tr th:only-of-type {\n",
              "        vertical-align: middle;\n",
              "    }\n",
              "\n",
              "    .dataframe tbody tr th {\n",
              "        vertical-align: top;\n",
              "    }\n",
              "\n",
              "    .dataframe thead th {\n",
              "        text-align: right;\n",
              "    }\n",
              "</style>\n",
              "<table border=\"1\" class=\"dataframe\">\n",
              "  <thead>\n",
              "    <tr style=\"text-align: right;\">\n",
              "      <th></th>\n",
              "      <th>count</th>\n",
              "    </tr>\n",
              "    <tr>\n",
              "      <th>NUMERO DE FUNCIONARIOS</th>\n",
              "      <th></th>\n",
              "    </tr>\n",
              "  </thead>\n",
              "  <tbody>\n",
              "    <tr>\n",
              "      <th>Acima de 3.000</th>\n",
              "      <td>1313</td>\n",
              "    </tr>\n",
              "    <tr>\n",
              "      <th>de 101 a 500</th>\n",
              "      <td>503</td>\n",
              "    </tr>\n",
              "    <tr>\n",
              "      <th>de 1.001 a 3.000</th>\n",
              "      <td>368</td>\n",
              "    </tr>\n",
              "    <tr>\n",
              "      <th>de 501 a 1.000</th>\n",
              "      <td>248</td>\n",
              "    </tr>\n",
              "    <tr>\n",
              "      <th>de 51 a 100</th>\n",
              "      <td>146</td>\n",
              "    </tr>\n",
              "    <tr>\n",
              "      <th>de 11 a 50</th>\n",
              "      <td>112</td>\n",
              "    </tr>\n",
              "    <tr>\n",
              "      <th>de 6 a 10</th>\n",
              "      <td>24</td>\n",
              "    </tr>\n",
              "    <tr>\n",
              "      <th>de 1 a 5</th>\n",
              "      <td>18</td>\n",
              "    </tr>\n",
              "  </tbody>\n",
              "</table>\n",
              "</div><br><label><b>dtype:</b> int64</label>"
            ]
          },
          "metadata": {},
          "execution_count": 17
        }
      ]
    },
    {
      "cell_type": "code",
      "source": [
        "dados['NUMERO DE FUNCIONARIOS'] = dados['NUMERO DE FUNCIONARIOS'].str.replace('.', '')"
      ],
      "metadata": {
        "id": "BvtQ15cEIOut"
      },
      "execution_count": null,
      "outputs": []
    },
    {
      "cell_type": "code",
      "source": [
        "dados['NUMERO DE FUNCIONARIOS'].value_counts()"
      ],
      "metadata": {
        "colab": {
          "base_uri": "https://localhost:8080/",
          "height": 366
        },
        "id": "jXtOCM73Ig6M",
        "outputId": "8fbae3f1-0158-4555-dde9-16a13758e9bb"
      },
      "execution_count": null,
      "outputs": [
        {
          "output_type": "execute_result",
          "data": {
            "text/plain": [
              "NUMERO DE FUNCIONARIOS\n",
              "Acima de 3000     1313\n",
              "de 101 a 500       503\n",
              "de 1001 a 3000     368\n",
              "de 501 a 1000      248\n",
              "de 51 a 100        146\n",
              "de 11 a 50         112\n",
              "de 6 a 10           24\n",
              "de 1 a 5            18\n",
              "Name: count, dtype: int64"
            ],
            "text/html": [
              "<div>\n",
              "<style scoped>\n",
              "    .dataframe tbody tr th:only-of-type {\n",
              "        vertical-align: middle;\n",
              "    }\n",
              "\n",
              "    .dataframe tbody tr th {\n",
              "        vertical-align: top;\n",
              "    }\n",
              "\n",
              "    .dataframe thead th {\n",
              "        text-align: right;\n",
              "    }\n",
              "</style>\n",
              "<table border=\"1\" class=\"dataframe\">\n",
              "  <thead>\n",
              "    <tr style=\"text-align: right;\">\n",
              "      <th></th>\n",
              "      <th>count</th>\n",
              "    </tr>\n",
              "    <tr>\n",
              "      <th>NUMERO DE FUNCIONARIOS</th>\n",
              "      <th></th>\n",
              "    </tr>\n",
              "  </thead>\n",
              "  <tbody>\n",
              "    <tr>\n",
              "      <th>Acima de 3000</th>\n",
              "      <td>1313</td>\n",
              "    </tr>\n",
              "    <tr>\n",
              "      <th>de 101 a 500</th>\n",
              "      <td>503</td>\n",
              "    </tr>\n",
              "    <tr>\n",
              "      <th>de 1001 a 3000</th>\n",
              "      <td>368</td>\n",
              "    </tr>\n",
              "    <tr>\n",
              "      <th>de 501 a 1000</th>\n",
              "      <td>248</td>\n",
              "    </tr>\n",
              "    <tr>\n",
              "      <th>de 51 a 100</th>\n",
              "      <td>146</td>\n",
              "    </tr>\n",
              "    <tr>\n",
              "      <th>de 11 a 50</th>\n",
              "      <td>112</td>\n",
              "    </tr>\n",
              "    <tr>\n",
              "      <th>de 6 a 10</th>\n",
              "      <td>24</td>\n",
              "    </tr>\n",
              "    <tr>\n",
              "      <th>de 1 a 5</th>\n",
              "      <td>18</td>\n",
              "    </tr>\n",
              "  </tbody>\n",
              "</table>\n",
              "</div><br><label><b>dtype:</b> int64</label>"
            ]
          },
          "metadata": {},
          "execution_count": 19
        }
      ]
    },
    {
      "cell_type": "code",
      "source": [
        "dados ['NUMERO DE FUNCIONARIOS']= dados['NUMERO DE FUNCIONARIOS'].str.extract(r'(\\d+)')"
      ],
      "metadata": {
        "id": "AgjzQaKxIphd"
      },
      "execution_count": null,
      "outputs": []
    },
    {
      "cell_type": "code",
      "source": [
        "dados['NUMERO DE FUNCIONARIOS'].value_counts()"
      ],
      "metadata": {
        "colab": {
          "base_uri": "https://localhost:8080/",
          "height": 366
        },
        "id": "S9h7lW9OIwPm",
        "outputId": "3713b72b-8106-4f11-fe51-c4e2c2a04965"
      },
      "execution_count": null,
      "outputs": [
        {
          "output_type": "execute_result",
          "data": {
            "text/plain": [
              "NUMERO DE FUNCIONARIOS\n",
              "3000    1313\n",
              "101      503\n",
              "1001     368\n",
              "501      248\n",
              "51       146\n",
              "11       112\n",
              "6         24\n",
              "1         18\n",
              "Name: count, dtype: int64"
            ],
            "text/html": [
              "<div>\n",
              "<style scoped>\n",
              "    .dataframe tbody tr th:only-of-type {\n",
              "        vertical-align: middle;\n",
              "    }\n",
              "\n",
              "    .dataframe tbody tr th {\n",
              "        vertical-align: top;\n",
              "    }\n",
              "\n",
              "    .dataframe thead th {\n",
              "        text-align: right;\n",
              "    }\n",
              "</style>\n",
              "<table border=\"1\" class=\"dataframe\">\n",
              "  <thead>\n",
              "    <tr style=\"text-align: right;\">\n",
              "      <th></th>\n",
              "      <th>count</th>\n",
              "    </tr>\n",
              "    <tr>\n",
              "      <th>NUMERO DE FUNCIONARIOS</th>\n",
              "      <th></th>\n",
              "    </tr>\n",
              "  </thead>\n",
              "  <tbody>\n",
              "    <tr>\n",
              "      <th>3000</th>\n",
              "      <td>1313</td>\n",
              "    </tr>\n",
              "    <tr>\n",
              "      <th>101</th>\n",
              "      <td>503</td>\n",
              "    </tr>\n",
              "    <tr>\n",
              "      <th>1001</th>\n",
              "      <td>368</td>\n",
              "    </tr>\n",
              "    <tr>\n",
              "      <th>501</th>\n",
              "      <td>248</td>\n",
              "    </tr>\n",
              "    <tr>\n",
              "      <th>51</th>\n",
              "      <td>146</td>\n",
              "    </tr>\n",
              "    <tr>\n",
              "      <th>11</th>\n",
              "      <td>112</td>\n",
              "    </tr>\n",
              "    <tr>\n",
              "      <th>6</th>\n",
              "      <td>24</td>\n",
              "    </tr>\n",
              "    <tr>\n",
              "      <th>1</th>\n",
              "      <td>18</td>\n",
              "    </tr>\n",
              "  </tbody>\n",
              "</table>\n",
              "</div><br><label><b>dtype:</b> int64</label>"
            ]
          },
          "metadata": {},
          "execution_count": 21
        }
      ]
    },
    {
      "cell_type": "code",
      "source": [
        "dados['NUMERO DE FUNCIONARIOS'].value_counts(dropna=False)"
      ],
      "metadata": {
        "colab": {
          "base_uri": "https://localhost:8080/",
          "height": 366
        },
        "id": "qaBgVxRgIx1W",
        "outputId": "cca8e8ea-299b-49fe-91e8-cbe1761a7d31"
      },
      "execution_count": null,
      "outputs": [
        {
          "output_type": "execute_result",
          "data": {
            "text/plain": [
              "NUMERO DE FUNCIONARIOS\n",
              "3000    1313\n",
              "101      503\n",
              "1001     368\n",
              "501      248\n",
              "51       146\n",
              "11       112\n",
              "6         24\n",
              "1         18\n",
              "Name: count, dtype: int64"
            ],
            "text/html": [
              "<div>\n",
              "<style scoped>\n",
              "    .dataframe tbody tr th:only-of-type {\n",
              "        vertical-align: middle;\n",
              "    }\n",
              "\n",
              "    .dataframe tbody tr th {\n",
              "        vertical-align: top;\n",
              "    }\n",
              "\n",
              "    .dataframe thead th {\n",
              "        text-align: right;\n",
              "    }\n",
              "</style>\n",
              "<table border=\"1\" class=\"dataframe\">\n",
              "  <thead>\n",
              "    <tr style=\"text-align: right;\">\n",
              "      <th></th>\n",
              "      <th>count</th>\n",
              "    </tr>\n",
              "    <tr>\n",
              "      <th>NUMERO DE FUNCIONARIOS</th>\n",
              "      <th></th>\n",
              "    </tr>\n",
              "  </thead>\n",
              "  <tbody>\n",
              "    <tr>\n",
              "      <th>3000</th>\n",
              "      <td>1313</td>\n",
              "    </tr>\n",
              "    <tr>\n",
              "      <th>101</th>\n",
              "      <td>503</td>\n",
              "    </tr>\n",
              "    <tr>\n",
              "      <th>1001</th>\n",
              "      <td>368</td>\n",
              "    </tr>\n",
              "    <tr>\n",
              "      <th>501</th>\n",
              "      <td>248</td>\n",
              "    </tr>\n",
              "    <tr>\n",
              "      <th>51</th>\n",
              "      <td>146</td>\n",
              "    </tr>\n",
              "    <tr>\n",
              "      <th>11</th>\n",
              "      <td>112</td>\n",
              "    </tr>\n",
              "    <tr>\n",
              "      <th>6</th>\n",
              "      <td>24</td>\n",
              "    </tr>\n",
              "    <tr>\n",
              "      <th>1</th>\n",
              "      <td>18</td>\n",
              "    </tr>\n",
              "  </tbody>\n",
              "</table>\n",
              "</div><br><label><b>dtype:</b> int64</label>"
            ]
          },
          "metadata": {},
          "execution_count": 22
        }
      ]
    },
    {
      "cell_type": "code",
      "source": [
        "dados['TEMPO_EXPERIENCIA'].value_counts(dropna=False)"
      ],
      "metadata": {
        "colab": {
          "base_uri": "https://localhost:8080/",
          "height": 303
        },
        "id": "IjuV160CI5Sm",
        "outputId": "7827d6c3-8d5c-4c8b-ff64-d953cf7abe90"
      },
      "execution_count": null,
      "outputs": [
        {
          "output_type": "execute_result",
          "data": {
            "text/plain": [
              "TEMPO_EXPERIENCIA\n",
              "1      1096\n",
              "3       584\n",
              "4       416\n",
              "10      277\n",
              "7       232\n",
              "NaN     127\n",
              "Name: count, dtype: int64"
            ],
            "text/html": [
              "<div>\n",
              "<style scoped>\n",
              "    .dataframe tbody tr th:only-of-type {\n",
              "        vertical-align: middle;\n",
              "    }\n",
              "\n",
              "    .dataframe tbody tr th {\n",
              "        vertical-align: top;\n",
              "    }\n",
              "\n",
              "    .dataframe thead th {\n",
              "        text-align: right;\n",
              "    }\n",
              "</style>\n",
              "<table border=\"1\" class=\"dataframe\">\n",
              "  <thead>\n",
              "    <tr style=\"text-align: right;\">\n",
              "      <th></th>\n",
              "      <th>count</th>\n",
              "    </tr>\n",
              "    <tr>\n",
              "      <th>TEMPO_EXPERIENCIA</th>\n",
              "      <th></th>\n",
              "    </tr>\n",
              "  </thead>\n",
              "  <tbody>\n",
              "    <tr>\n",
              "      <th>1</th>\n",
              "      <td>1096</td>\n",
              "    </tr>\n",
              "    <tr>\n",
              "      <th>3</th>\n",
              "      <td>584</td>\n",
              "    </tr>\n",
              "    <tr>\n",
              "      <th>4</th>\n",
              "      <td>416</td>\n",
              "    </tr>\n",
              "    <tr>\n",
              "      <th>10</th>\n",
              "      <td>277</td>\n",
              "    </tr>\n",
              "    <tr>\n",
              "      <th>7</th>\n",
              "      <td>232</td>\n",
              "    </tr>\n",
              "    <tr>\n",
              "      <th>NaN</th>\n",
              "      <td>127</td>\n",
              "    </tr>\n",
              "  </tbody>\n",
              "</table>\n",
              "</div><br><label><b>dtype:</b> int64</label>"
            ]
          },
          "metadata": {},
          "execution_count": 23
        }
      ]
    },
    {
      "cell_type": "code",
      "source": [
        "dados['TEMPO_EXPERIENCIA'] = dados['TEMPO_EXPERIENCIA'].fillna(0)"
      ],
      "metadata": {
        "id": "4_KdjJEkI_-G"
      },
      "execution_count": null,
      "outputs": []
    },
    {
      "cell_type": "code",
      "source": [
        "dados['TEMPO_EXPERIENCIA'].value_counts(dropna=False)"
      ],
      "metadata": {
        "id": "YMpbZP0sJKwF",
        "outputId": "10f9d29f-3526-4440-ebff-792b855c58cd",
        "colab": {
          "base_uri": "https://localhost:8080/",
          "height": 303
        }
      },
      "execution_count": null,
      "outputs": [
        {
          "output_type": "execute_result",
          "data": {
            "text/plain": [
              "TEMPO_EXPERIENCIA\n",
              "1     1096\n",
              "3      584\n",
              "4      416\n",
              "10     277\n",
              "7      232\n",
              "0      127\n",
              "Name: count, dtype: int64"
            ],
            "text/html": [
              "<div>\n",
              "<style scoped>\n",
              "    .dataframe tbody tr th:only-of-type {\n",
              "        vertical-align: middle;\n",
              "    }\n",
              "\n",
              "    .dataframe tbody tr th {\n",
              "        vertical-align: top;\n",
              "    }\n",
              "\n",
              "    .dataframe thead th {\n",
              "        text-align: right;\n",
              "    }\n",
              "</style>\n",
              "<table border=\"1\" class=\"dataframe\">\n",
              "  <thead>\n",
              "    <tr style=\"text-align: right;\">\n",
              "      <th></th>\n",
              "      <th>count</th>\n",
              "    </tr>\n",
              "    <tr>\n",
              "      <th>TEMPO_EXPERIENCIA</th>\n",
              "      <th></th>\n",
              "    </tr>\n",
              "  </thead>\n",
              "  <tbody>\n",
              "    <tr>\n",
              "      <th>1</th>\n",
              "      <td>1096</td>\n",
              "    </tr>\n",
              "    <tr>\n",
              "      <th>3</th>\n",
              "      <td>584</td>\n",
              "    </tr>\n",
              "    <tr>\n",
              "      <th>4</th>\n",
              "      <td>416</td>\n",
              "    </tr>\n",
              "    <tr>\n",
              "      <th>10</th>\n",
              "      <td>277</td>\n",
              "    </tr>\n",
              "    <tr>\n",
              "      <th>7</th>\n",
              "      <td>232</td>\n",
              "    </tr>\n",
              "    <tr>\n",
              "      <th>0</th>\n",
              "      <td>127</td>\n",
              "    </tr>\n",
              "  </tbody>\n",
              "</table>\n",
              "</div><br><label><b>dtype:</b> int64</label>"
            ]
          },
          "metadata": {},
          "execution_count": 25
        }
      ]
    },
    {
      "cell_type": "code",
      "source": [
        "dados[\"Qual o principal motivo da sua insatisfação com a empresa atual?\"].value_counts()"
      ],
      "metadata": {
        "colab": {
          "base_uri": "https://localhost:8080/",
          "height": 576
        },
        "id": "FRaZf1upMHpX",
        "outputId": "cca0192b-c76c-4863-ba00-d80dec7bedfd"
      },
      "execution_count": null,
      "outputs": [
        {
          "output_type": "execute_result",
          "data": {
            "text/plain": [
              "Qual o principal motivo da sua insatisfação com a empresa atual?\n",
              "Gostaria de trabalhar em em outra área de atuação                                                                                                           69\n",
              "Salário atual não corresponde ao mercado                                                                                                                    53\n",
              "Falta de oportunidade de crescimento no emprego atual                                                                                                       46\n",
              "Falta de maturidade analítica na empresa                                                                                                                    45\n",
              "Falta de oportunidade de crescimento no emprego atual, Salário atual não corresponde ao mercado, Falta de maturidade analítica na empresa                   26\n",
              "                                                                                                                                                            ..\n",
              "Trabalho explora pouco minhas habilidades e me dá poucas oportunidades de atuação distintas                                                                  1\n",
              "Quero trabalhar de casa                                                                                                                                      1\n",
              "Não tenho uma boa relação com meu líder/gestor, Gostaria de trabalhar em em outra área de atuação                                                            1\n",
              "Salário atual não corresponde ao mercado, Gostaria de trabalhar em em outra área de atuação, Carga horária de trabalho                                       1\n",
              "Não tenho uma boa relação com meu líder/gestor, Falta de oportunidade de crescimento no emprego atual, Gostaria de trabalhar em em outra área de atuação     1\n",
              "Name: count, Length: 174, dtype: int64"
            ],
            "text/html": [
              "<div>\n",
              "<style scoped>\n",
              "    .dataframe tbody tr th:only-of-type {\n",
              "        vertical-align: middle;\n",
              "    }\n",
              "\n",
              "    .dataframe tbody tr th {\n",
              "        vertical-align: top;\n",
              "    }\n",
              "\n",
              "    .dataframe thead th {\n",
              "        text-align: right;\n",
              "    }\n",
              "</style>\n",
              "<table border=\"1\" class=\"dataframe\">\n",
              "  <thead>\n",
              "    <tr style=\"text-align: right;\">\n",
              "      <th></th>\n",
              "      <th>count</th>\n",
              "    </tr>\n",
              "    <tr>\n",
              "      <th>Qual o principal motivo da sua insatisfação com a empresa atual?</th>\n",
              "      <th></th>\n",
              "    </tr>\n",
              "  </thead>\n",
              "  <tbody>\n",
              "    <tr>\n",
              "      <th>Gostaria de trabalhar em em outra área de atuação</th>\n",
              "      <td>69</td>\n",
              "    </tr>\n",
              "    <tr>\n",
              "      <th>Salário atual não corresponde ao mercado</th>\n",
              "      <td>53</td>\n",
              "    </tr>\n",
              "    <tr>\n",
              "      <th>Falta de oportunidade de crescimento no emprego atual</th>\n",
              "      <td>46</td>\n",
              "    </tr>\n",
              "    <tr>\n",
              "      <th>Falta de maturidade analítica na empresa</th>\n",
              "      <td>45</td>\n",
              "    </tr>\n",
              "    <tr>\n",
              "      <th>Falta de oportunidade de crescimento no emprego atual, Salário atual não corresponde ao mercado, Falta de maturidade analítica na empresa</th>\n",
              "      <td>26</td>\n",
              "    </tr>\n",
              "    <tr>\n",
              "      <th>...</th>\n",
              "      <td>...</td>\n",
              "    </tr>\n",
              "    <tr>\n",
              "      <th>Trabalho explora pouco minhas habilidades e me dá poucas oportunidades de atuação distintas</th>\n",
              "      <td>1</td>\n",
              "    </tr>\n",
              "    <tr>\n",
              "      <th>Quero trabalhar de casa</th>\n",
              "      <td>1</td>\n",
              "    </tr>\n",
              "    <tr>\n",
              "      <th>Não tenho uma boa relação com meu líder/gestor, Gostaria de trabalhar em em outra área de atuação</th>\n",
              "      <td>1</td>\n",
              "    </tr>\n",
              "    <tr>\n",
              "      <th>Salário atual não corresponde ao mercado, Gostaria de trabalhar em em outra área de atuação, Carga horária de trabalho</th>\n",
              "      <td>1</td>\n",
              "    </tr>\n",
              "    <tr>\n",
              "      <th>Não tenho uma boa relação com meu líder/gestor, Falta de oportunidade de crescimento no emprego atual, Gostaria de trabalhar em em outra área de atuação</th>\n",
              "      <td>1</td>\n",
              "    </tr>\n",
              "  </tbody>\n",
              "</table>\n",
              "<p>174 rows × 1 columns</p>\n",
              "</div><br><label><b>dtype:</b> int64</label>"
            ]
          },
          "metadata": {},
          "execution_count": 26
        }
      ]
    },
    {
      "cell_type": "code",
      "source": [
        "dados[\"INSATISFACAO\"] = 0"
      ],
      "metadata": {
        "id": "kYOrFfRNL5XK"
      },
      "execution_count": null,
      "outputs": []
    },
    {
      "cell_type": "code",
      "source": [
        "# Aplicando a função lambda para verificar se \"Salário\" está presente e atribuindo 1 ou 0\n",
        "dados.loc[dados[\"Qual o principal motivo da sua insatisfação com a empresa atual?\"].notnull(),\"Qual o principal motivo da sua insatisfação com a empresa atual?\"].apply(lambda x: 1 if \"Salário\" in x else 0)\n"
      ],
      "metadata": {
        "colab": {
          "base_uri": "https://localhost:8080/",
          "height": 458
        },
        "id": "UiduWgM3N7kr",
        "outputId": "a24c4bf3-2a4c-473c-b3d8-25b1b8ba8364"
      },
      "execution_count": null,
      "outputs": [
        {
          "output_type": "execute_result",
          "data": {
            "text/plain": [
              "1       0\n",
              "2       0\n",
              "7       1\n",
              "10      0\n",
              "26      1\n",
              "       ..\n",
              "4227    0\n",
              "4234    1\n",
              "4238    0\n",
              "4240    1\n",
              "4270    1\n",
              "Name: Qual o principal motivo da sua insatisfação com a empresa atual?, Length: 661, dtype: int64"
            ],
            "text/html": [
              "<div>\n",
              "<style scoped>\n",
              "    .dataframe tbody tr th:only-of-type {\n",
              "        vertical-align: middle;\n",
              "    }\n",
              "\n",
              "    .dataframe tbody tr th {\n",
              "        vertical-align: top;\n",
              "    }\n",
              "\n",
              "    .dataframe thead th {\n",
              "        text-align: right;\n",
              "    }\n",
              "</style>\n",
              "<table border=\"1\" class=\"dataframe\">\n",
              "  <thead>\n",
              "    <tr style=\"text-align: right;\">\n",
              "      <th></th>\n",
              "      <th>Qual o principal motivo da sua insatisfação com a empresa atual?</th>\n",
              "    </tr>\n",
              "  </thead>\n",
              "  <tbody>\n",
              "    <tr>\n",
              "      <th>1</th>\n",
              "      <td>0</td>\n",
              "    </tr>\n",
              "    <tr>\n",
              "      <th>2</th>\n",
              "      <td>0</td>\n",
              "    </tr>\n",
              "    <tr>\n",
              "      <th>7</th>\n",
              "      <td>1</td>\n",
              "    </tr>\n",
              "    <tr>\n",
              "      <th>10</th>\n",
              "      <td>0</td>\n",
              "    </tr>\n",
              "    <tr>\n",
              "      <th>26</th>\n",
              "      <td>1</td>\n",
              "    </tr>\n",
              "    <tr>\n",
              "      <th>...</th>\n",
              "      <td>...</td>\n",
              "    </tr>\n",
              "    <tr>\n",
              "      <th>4227</th>\n",
              "      <td>0</td>\n",
              "    </tr>\n",
              "    <tr>\n",
              "      <th>4234</th>\n",
              "      <td>1</td>\n",
              "    </tr>\n",
              "    <tr>\n",
              "      <th>4238</th>\n",
              "      <td>0</td>\n",
              "    </tr>\n",
              "    <tr>\n",
              "      <th>4240</th>\n",
              "      <td>1</td>\n",
              "    </tr>\n",
              "    <tr>\n",
              "      <th>4270</th>\n",
              "      <td>1</td>\n",
              "    </tr>\n",
              "  </tbody>\n",
              "</table>\n",
              "<p>661 rows × 1 columns</p>\n",
              "</div><br><label><b>dtype:</b> int64</label>"
            ]
          },
          "metadata": {},
          "execution_count": 28
        }
      ]
    },
    {
      "cell_type": "code",
      "source": [
        "dados.loc[dados[\"Qual o principal motivo da sua insatisfação com a empresa atual?\"].notnull(),\"INSATISFACAO\"] =dados.loc[dados[\"Qual o principal motivo da sua insatisfação com a empresa atual?\"].notnull(),\"Qual o principal motivo da sua insatisfação com a empresa atual?\"].apply(lambda x: 1 if \"Salário\" in x else 0)"
      ],
      "metadata": {
        "id": "xuxccyd8OcXe"
      },
      "execution_count": null,
      "outputs": []
    },
    {
      "cell_type": "code",
      "source": [
        "dados[\"INSATISFACAO\"].value_counts()"
      ],
      "metadata": {
        "colab": {
          "base_uri": "https://localhost:8080/",
          "height": 178
        },
        "id": "gjvVp_XIPD6J",
        "outputId": "8822410d-a460-492c-9dd5-f755719354df"
      },
      "execution_count": null,
      "outputs": [
        {
          "output_type": "execute_result",
          "data": {
            "text/plain": [
              "INSATISFACAO\n",
              "0    2453\n",
              "1     279\n",
              "Name: count, dtype: int64"
            ],
            "text/html": [
              "<div>\n",
              "<style scoped>\n",
              "    .dataframe tbody tr th:only-of-type {\n",
              "        vertical-align: middle;\n",
              "    }\n",
              "\n",
              "    .dataframe tbody tr th {\n",
              "        vertical-align: top;\n",
              "    }\n",
              "\n",
              "    .dataframe thead th {\n",
              "        text-align: right;\n",
              "    }\n",
              "</style>\n",
              "<table border=\"1\" class=\"dataframe\">\n",
              "  <thead>\n",
              "    <tr style=\"text-align: right;\">\n",
              "      <th></th>\n",
              "      <th>count</th>\n",
              "    </tr>\n",
              "    <tr>\n",
              "      <th>INSATISFACAO</th>\n",
              "      <th></th>\n",
              "    </tr>\n",
              "  </thead>\n",
              "  <tbody>\n",
              "    <tr>\n",
              "      <th>0</th>\n",
              "      <td>2453</td>\n",
              "    </tr>\n",
              "    <tr>\n",
              "      <th>1</th>\n",
              "      <td>279</td>\n",
              "    </tr>\n",
              "  </tbody>\n",
              "</table>\n",
              "</div><br><label><b>dtype:</b> int64</label>"
            ]
          },
          "metadata": {},
          "execution_count": 30
        }
      ]
    },
    {
      "cell_type": "code",
      "source": [
        "dados[\"NIVEL DE ENSINO\"].value_counts()"
      ],
      "metadata": {
        "colab": {
          "base_uri": "https://localhost:8080/",
          "height": 335
        },
        "id": "yY7bmU6VPPDv",
        "outputId": "f2d720f3-f7b9-4837-9046-7d8300f7d330"
      },
      "execution_count": null,
      "outputs": [
        {
          "output_type": "execute_result",
          "data": {
            "text/plain": [
              "NIVEL DE ENSINO\n",
              "Graduação/Bacharelado         1024\n",
              "Pós-graduação                  975\n",
              "Mestrado                       306\n",
              "Estudante de Graduação         271\n",
              "Doutorado ou Phd               100\n",
              "Não tenho graduação formal      52\n",
              "Prefiro não informar             4\n",
              "Name: count, dtype: int64"
            ],
            "text/html": [
              "<div>\n",
              "<style scoped>\n",
              "    .dataframe tbody tr th:only-of-type {\n",
              "        vertical-align: middle;\n",
              "    }\n",
              "\n",
              "    .dataframe tbody tr th {\n",
              "        vertical-align: top;\n",
              "    }\n",
              "\n",
              "    .dataframe thead th {\n",
              "        text-align: right;\n",
              "    }\n",
              "</style>\n",
              "<table border=\"1\" class=\"dataframe\">\n",
              "  <thead>\n",
              "    <tr style=\"text-align: right;\">\n",
              "      <th></th>\n",
              "      <th>count</th>\n",
              "    </tr>\n",
              "    <tr>\n",
              "      <th>NIVEL DE ENSINO</th>\n",
              "      <th></th>\n",
              "    </tr>\n",
              "  </thead>\n",
              "  <tbody>\n",
              "    <tr>\n",
              "      <th>Graduação/Bacharelado</th>\n",
              "      <td>1024</td>\n",
              "    </tr>\n",
              "    <tr>\n",
              "      <th>Pós-graduação</th>\n",
              "      <td>975</td>\n",
              "    </tr>\n",
              "    <tr>\n",
              "      <th>Mestrado</th>\n",
              "      <td>306</td>\n",
              "    </tr>\n",
              "    <tr>\n",
              "      <th>Estudante de Graduação</th>\n",
              "      <td>271</td>\n",
              "    </tr>\n",
              "    <tr>\n",
              "      <th>Doutorado ou Phd</th>\n",
              "      <td>100</td>\n",
              "    </tr>\n",
              "    <tr>\n",
              "      <th>Não tenho graduação formal</th>\n",
              "      <td>52</td>\n",
              "    </tr>\n",
              "    <tr>\n",
              "      <th>Prefiro não informar</th>\n",
              "      <td>4</td>\n",
              "    </tr>\n",
              "  </tbody>\n",
              "</table>\n",
              "</div><br><label><b>dtype:</b> int64</label>"
            ]
          },
          "metadata": {},
          "execution_count": 31
        }
      ]
    },
    {
      "cell_type": "code",
      "source": [
        "dados[\"NIVEL DE ENSINO\"] = dados[\"NIVEL DE ENSINO\"] .apply(lambda x:\n",
        "                            0 if x == \"Não tenho graduação formal\" else\n",
        "                            1 if x == \"Estudante de Graduação\" else\n",
        "                            2 if x == \"Graduação/Bacharelado\" else\n",
        "                            3 if x == \"Pós-graduação\" else\n",
        "                            4 if x == \"Mestrado\" else\n",
        "                            5 if x == \"Doutorado ou Phd\" else -1)\n"
      ],
      "metadata": {
        "id": "4SK2Q_vNQoLD"
      },
      "execution_count": null,
      "outputs": []
    },
    {
      "cell_type": "code",
      "source": [
        "dados.columns"
      ],
      "metadata": {
        "colab": {
          "base_uri": "https://localhost:8080/"
        },
        "id": "pLiAdOP5RAdr",
        "outputId": "b73d8886-236d-4f83-f602-554ca5cb7a5d"
      },
      "execution_count": null,
      "outputs": [
        {
          "output_type": "execute_result",
          "data": {
            "text/plain": [
              "Index(['ID', 'IDADE', 'FAIXA IDADE', 'GENERO', 'COR/RACA/ETNIA', 'PCD',\n",
              "       'EXPERIENCIA_PROFISSIONAL_PREJUDICADA', 'ASPECTOS_PREJUDICADOS',\n",
              "       'VIVE_NO_BRASIL', 'ESTADO ONDE MORA', 'UF ONDE MORA',\n",
              "       'REGIAO ONDE MORA', 'MUDOU DE ESTADO?', 'REGIAO DE ORIGEM',\n",
              "       'NIVEL DE ENSINO', 'ÁREA DE FORMAÇÃO',\n",
              "       'QUAL SUA SITUAÇÃO ATUAL DE TRABALHO?', 'SETOR',\n",
              "       'NUMERO DE FUNCIONARIOS', 'GESTOR?', 'CARGO COMO GESTOR', 'CARGO ATUAL',\n",
              "       'FAIXA SALARIAL',\n",
              "       'QUANTO TEMPO DE EXPERIÊNCIA NA ÁREA DE DADOS VOCÊ TEM?',\n",
              "       'QUANTO TEMPO DE EXPERIÊNCIA NA ÁREA DE TI/ENGENHARIA DE SOFTWARE VOCÊ TEVE ANTES DE COMEÇAR A TRABALHAR NA ÁREA DE DADOS?',\n",
              "       'SALARIO', 'NOVO_NIVEL', 'NIVEL_Júnior', 'NIVEL_Pleno', 'NIVEL_Sênior',\n",
              "       'GEARACAO', 'Quanto tempo de experiência na área de dados você tem?',\n",
              "       'Quanto tempo de experiência na área de TI/Engenharia de Software você teve antes de começar a trabalhar na área de dados?',\n",
              "       'Você está satisfeito na sua empresa atual?',\n",
              "       'Qual o principal motivo da sua insatisfação com a empresa atual?',\n",
              "       'Você participou de entrevistas de emprego nos últimos 6 meses?',\n",
              "       'Você pretende mudar de emprego nos próximos 6 meses?',\n",
              "       'Quais os principais critérios que você leva em consideração no momento de decidir onde trabalhar?',\n",
              "       'Atualmente qual a sua forma de trabalho?',\n",
              "       'Qual a forma de trabalho ideal para você?',\n",
              "       'Caso sua empresa decida pelo modelo 100% presencial qual será sua atitude?',\n",
              "       'Sua empresa passu por Layoff em 2022?', 'Atuacao',\n",
              "       'Quais das linguagens listadas abaixo você utiliza no trabalho?',\n",
              "       'EM_BUSCA', 'ABERTO_OPORTUNIDADES', 'NÃO_BRANCA', 'TEMPO_EXPERIENCIA',\n",
              "       'INSATISFACAO'],\n",
              "      dtype='object')"
            ]
          },
          "metadata": {},
          "execution_count": 36
        }
      ]
    },
    {
      "cell_type": "code",
      "source": [
        "dados = dados[[\"IDADE\", \"GENERO\", \"NÃO_BRANCA\",\"TEMPO_EXPERIENCIA\",  \"INSATISFACAO\", \"SETOR\", \"REGIAO ONDE MORA\",\n",
        "       \"NIVEL DE ENSINO\", \"NUMERO DE FUNCIONARIOS\", \"SALARIO\", \"NOVO_NIVEL\" ]]"
      ],
      "metadata": {
        "id": "0KEMYAx9RUqX"
      },
      "execution_count": null,
      "outputs": []
    },
    {
      "cell_type": "code",
      "source": [
        "dados.columns"
      ],
      "metadata": {
        "colab": {
          "base_uri": "https://localhost:8080/"
        },
        "id": "e5oWNnOiX1zI",
        "outputId": "b68b2a3e-a82b-4427-ea86-188d91237d24"
      },
      "execution_count": null,
      "outputs": [
        {
          "output_type": "execute_result",
          "data": {
            "text/plain": [
              "Index(['IDADE', 'GENERO', 'NÃO_BRANCA', 'TEMPO_EXPERIENCIA', 'INSATISFACAO',\n",
              "       'SETOR', 'REGIAO ONDE MORA', 'NIVEL DE ENSINO',\n",
              "       'NUMERO DE FUNCIONARIOS', 'SALARIO', 'NOVO_NIVEL'],\n",
              "      dtype='object')"
            ]
          },
          "metadata": {},
          "execution_count": 38
        }
      ]
    },
    {
      "cell_type": "code",
      "source": [
        "dados = pd.get_dummies(dados, columns=[\"GENERO\", \"SETOR\", \"NOVO_NIVEL\", \"REGIAO ONDE MORA\"], drop_first=True )"
      ],
      "metadata": {
        "id": "gaApH09RX4gP"
      },
      "execution_count": null,
      "outputs": []
    },
    {
      "cell_type": "code",
      "source": [
        "x = dados.drop(\"SALARIO\", axis = 1)\n",
        "y = dados[\"SALARIO\"]"
      ],
      "metadata": {
        "id": "wNUHFkimYquv"
      },
      "execution_count": null,
      "outputs": []
    },
    {
      "cell_type": "code",
      "source": [
        "from sklearn.model_selection import train_test_split"
      ],
      "metadata": {
        "id": "tpwY2PR2ZmSO"
      },
      "execution_count": null,
      "outputs": []
    },
    {
      "cell_type": "code",
      "source": [
        "x_train, x_test, y_train, y_test = train_test_split ( x, y, test_size = 0.2, random_state = 42)"
      ],
      "metadata": {
        "id": "cK9lWy9fZ6Dn"
      },
      "execution_count": null,
      "outputs": []
    },
    {
      "cell_type": "code",
      "source": [
        "from sklearn.preprocessing import StandardScaler"
      ],
      "metadata": {
        "id": "Zkcgy1aqaxzM"
      },
      "execution_count": null,
      "outputs": []
    },
    {
      "cell_type": "code",
      "source": [
        "scaler = StandardScaler()\n",
        "x_train_scaled= scaler.fit_transform(x_train)\n",
        "x_test_scaled= scaler.fit_transform(x_test)"
      ],
      "metadata": {
        "id": "DoxOeW33a_wt"
      },
      "execution_count": null,
      "outputs": []
    },
    {
      "cell_type": "code",
      "source": [
        "from sklearn.linear_model import LinearRegression"
      ],
      "metadata": {
        "id": "99suXDlKbojG"
      },
      "execution_count": null,
      "outputs": []
    },
    {
      "cell_type": "code",
      "source": [
        "model = LinearRegression()"
      ],
      "metadata": {
        "id": "2q21RhdIcyjE"
      },
      "execution_count": null,
      "outputs": []
    },
    {
      "cell_type": "code",
      "source": [
        "model.fit(x_train_scaled, y_train)"
      ],
      "metadata": {
        "colab": {
          "base_uri": "https://localhost:8080/",
          "height": 75
        },
        "id": "twiHI6hEc3Rf",
        "outputId": "38b45bcf-a3ab-4d76-ba7b-7653d6b205d6"
      },
      "execution_count": null,
      "outputs": [
        {
          "output_type": "execute_result",
          "data": {
            "text/plain": [
              "LinearRegression()"
            ],
            "text/html": [
              "<style>#sk-container-id-2 {color: black;}#sk-container-id-2 pre{padding: 0;}#sk-container-id-2 div.sk-toggleable {background-color: white;}#sk-container-id-2 label.sk-toggleable__label {cursor: pointer;display: block;width: 100%;margin-bottom: 0;padding: 0.3em;box-sizing: border-box;text-align: center;}#sk-container-id-2 label.sk-toggleable__label-arrow:before {content: \"▸\";float: left;margin-right: 0.25em;color: #696969;}#sk-container-id-2 label.sk-toggleable__label-arrow:hover:before {color: black;}#sk-container-id-2 div.sk-estimator:hover label.sk-toggleable__label-arrow:before {color: black;}#sk-container-id-2 div.sk-toggleable__content {max-height: 0;max-width: 0;overflow: hidden;text-align: left;background-color: #f0f8ff;}#sk-container-id-2 div.sk-toggleable__content pre {margin: 0.2em;color: black;border-radius: 0.25em;background-color: #f0f8ff;}#sk-container-id-2 input.sk-toggleable__control:checked~div.sk-toggleable__content {max-height: 200px;max-width: 100%;overflow: auto;}#sk-container-id-2 input.sk-toggleable__control:checked~label.sk-toggleable__label-arrow:before {content: \"▾\";}#sk-container-id-2 div.sk-estimator input.sk-toggleable__control:checked~label.sk-toggleable__label {background-color: #d4ebff;}#sk-container-id-2 div.sk-label input.sk-toggleable__control:checked~label.sk-toggleable__label {background-color: #d4ebff;}#sk-container-id-2 input.sk-hidden--visually {border: 0;clip: rect(1px 1px 1px 1px);clip: rect(1px, 1px, 1px, 1px);height: 1px;margin: -1px;overflow: hidden;padding: 0;position: absolute;width: 1px;}#sk-container-id-2 div.sk-estimator {font-family: monospace;background-color: #f0f8ff;border: 1px dotted black;border-radius: 0.25em;box-sizing: border-box;margin-bottom: 0.5em;}#sk-container-id-2 div.sk-estimator:hover {background-color: #d4ebff;}#sk-container-id-2 div.sk-parallel-item::after {content: \"\";width: 100%;border-bottom: 1px solid gray;flex-grow: 1;}#sk-container-id-2 div.sk-label:hover label.sk-toggleable__label {background-color: #d4ebff;}#sk-container-id-2 div.sk-serial::before {content: \"\";position: absolute;border-left: 1px solid gray;box-sizing: border-box;top: 0;bottom: 0;left: 50%;z-index: 0;}#sk-container-id-2 div.sk-serial {display: flex;flex-direction: column;align-items: center;background-color: white;padding-right: 0.2em;padding-left: 0.2em;position: relative;}#sk-container-id-2 div.sk-item {position: relative;z-index: 1;}#sk-container-id-2 div.sk-parallel {display: flex;align-items: stretch;justify-content: center;background-color: white;position: relative;}#sk-container-id-2 div.sk-item::before, #sk-container-id-2 div.sk-parallel-item::before {content: \"\";position: absolute;border-left: 1px solid gray;box-sizing: border-box;top: 0;bottom: 0;left: 50%;z-index: -1;}#sk-container-id-2 div.sk-parallel-item {display: flex;flex-direction: column;z-index: 1;position: relative;background-color: white;}#sk-container-id-2 div.sk-parallel-item:first-child::after {align-self: flex-end;width: 50%;}#sk-container-id-2 div.sk-parallel-item:last-child::after {align-self: flex-start;width: 50%;}#sk-container-id-2 div.sk-parallel-item:only-child::after {width: 0;}#sk-container-id-2 div.sk-dashed-wrapped {border: 1px dashed gray;margin: 0 0.4em 0.5em 0.4em;box-sizing: border-box;padding-bottom: 0.4em;background-color: white;}#sk-container-id-2 div.sk-label label {font-family: monospace;font-weight: bold;display: inline-block;line-height: 1.2em;}#sk-container-id-2 div.sk-label-container {text-align: center;}#sk-container-id-2 div.sk-container {/* jupyter's `normalize.less` sets `[hidden] { display: none; }` but bootstrap.min.css set `[hidden] { display: none !important; }` so we also need the `!important` here to be able to override the default hidden behavior on the sphinx rendered scikit-learn.org. See: https://github.com/scikit-learn/scikit-learn/issues/21755 */display: inline-block !important;position: relative;}#sk-container-id-2 div.sk-text-repr-fallback {display: none;}</style><div id=\"sk-container-id-2\" class=\"sk-top-container\"><div class=\"sk-text-repr-fallback\"><pre>LinearRegression()</pre><b>In a Jupyter environment, please rerun this cell to show the HTML representation or trust the notebook. <br />On GitHub, the HTML representation is unable to render, please try loading this page with nbviewer.org.</b></div><div class=\"sk-container\" hidden><div class=\"sk-item\"><div class=\"sk-estimator sk-toggleable\"><input class=\"sk-toggleable__control sk-hidden--visually\" id=\"sk-estimator-id-2\" type=\"checkbox\" checked><label for=\"sk-estimator-id-2\" class=\"sk-toggleable__label sk-toggleable__label-arrow\">LinearRegression</label><div class=\"sk-toggleable__content\"><pre>LinearRegression()</pre></div></div></div></div></div>"
            ]
          },
          "metadata": {},
          "execution_count": 49
        }
      ]
    },
    {
      "cell_type": "code",
      "source": [
        "y_pred = model.predict(x_test_scaled)"
      ],
      "metadata": {
        "id": "3sL__B1HdGGN"
      },
      "execution_count": null,
      "outputs": []
    },
    {
      "cell_type": "code",
      "source": [
        "from sklearn.metrics import  mean_squared_error, r2_score, mean_absolute_error"
      ],
      "metadata": {
        "id": "iSj32gyydSZY"
      },
      "execution_count": null,
      "outputs": []
    },
    {
      "cell_type": "code",
      "source": [
        "mse = mean_squared_error(y_test, y_pred )\n",
        "mse"
      ],
      "metadata": {
        "colab": {
          "base_uri": "https://localhost:8080/"
        },
        "id": "DXg-UDZbeSb-",
        "outputId": "35a37d5d-ae0d-4775-be4a-ba31dd1db391"
      },
      "execution_count": null,
      "outputs": [
        {
          "output_type": "execute_result",
          "data": {
            "text/plain": [
              "23048733.978297196"
            ]
          },
          "metadata": {},
          "execution_count": 58
        }
      ]
    },
    {
      "cell_type": "code",
      "source": [
        "mae = mean_absolute_error(y_test, y_pred )\n",
        "mae\n"
      ],
      "metadata": {
        "colab": {
          "base_uri": "https://localhost:8080/"
        },
        "id": "uHCXCcl6egCa",
        "outputId": "4553912d-0571-4bc7-9397-9cdcd493ee22"
      },
      "execution_count": null,
      "outputs": [
        {
          "output_type": "execute_result",
          "data": {
            "text/plain": [
              "3298.964464206939"
            ]
          },
          "metadata": {},
          "execution_count": 60
        }
      ]
    },
    {
      "cell_type": "code",
      "source": [
        "r2 = r2_score (y_test, y_pred)\n",
        "r2"
      ],
      "metadata": {
        "colab": {
          "base_uri": "https://localhost:8080/"
        },
        "id": "-GWfNy3JfD0O",
        "outputId": "dc87ea7d-a5cd-4d04-da54-46d1e4a91f34"
      },
      "execution_count": null,
      "outputs": [
        {
          "output_type": "execute_result",
          "data": {
            "text/plain": [
              "0.5297347873934934"
            ]
          },
          "metadata": {},
          "execution_count": 61
        }
      ]
    },
    {
      "cell_type": "code",
      "source": [
        "import matplotlib.pyplot as plt"
      ],
      "metadata": {
        "id": "hj6Gl-3kfUk-"
      },
      "execution_count": null,
      "outputs": []
    },
    {
      "cell_type": "code",
      "source": [
        "plt.figure(figsize=(10,4))\n",
        "plt.scatter(y_test, y_pred, alpha =0.5)\n",
        "plt.xlabel (\"Valor real\")\n",
        "plt.ylabel (\"Valor preditivo\")\n",
        "plt.title(\"Dispersão dos dados\")\n",
        "plt.plot([min(y_test), max(y_test)],[min(y_test), max(y_test)], color = \"red\", linewidth = 2 )\n",
        "plt.show()"
      ],
      "metadata": {
        "colab": {
          "base_uri": "https://localhost:8080/",
          "height": 304
        },
        "id": "0EwmPTMYfjJW",
        "outputId": "94c4937c-1be8-428a-b58e-b9098595074b"
      },
      "execution_count": null,
      "outputs": [
        {
          "output_type": "display_data",
          "data": {
            "text/plain": [
              "<Figure size 1000x400 with 1 Axes>"
            ],
            "image/png": "[encoded data removed]"
          },
          "metadata": {}
        }
      ]
    },
    {
      "cell_type": "code",
      "source": [
        "nomes_atributos = x_train.columns"
      ],
      "metadata": {
        "id": "Vs4jYZWxhOuy"
      },
      "execution_count": null,
      "outputs": []
    },
    {
      "cell_type": "code",
      "source": [
        "nomes_atributos"
      ],
      "metadata": {
        "colab": {
          "base_uri": "https://localhost:8080/"
        },
        "id": "mzX83LP7i_ks",
        "outputId": "5f32d174-0b87-4424-83ef-00feb2a06c85"
      },
      "execution_count": null,
      "outputs": [
        {
          "output_type": "execute_result",
          "data": {
            "text/plain": [
              "Index(['IDADE', 'NÃO_BRANCA', 'TEMPO_EXPERIENCIA', 'INSATISFACAO',\n",
              "       'NIVEL DE ENSINO', 'NUMERO DE FUNCIONARIOS', 'GENERO_Masculino',\n",
              "       'GENERO_Prefiro não informar', 'SETOR_Educação',\n",
              "       'SETOR_Entretenimento ou Esportes', 'SETOR_Filantropia/ONG's',\n",
              "       'SETOR_Finanças ou Bancos', 'SETOR_Indústria',\n",
              "       'SETOR_Internet/Ecommerce', 'SETOR_Marketing', 'SETOR_Outra Opção',\n",
              "       'SETOR_Seguros ou Previdência', 'SETOR_Setor Alimentício',\n",
              "       'SETOR_Setor Automotivo', 'SETOR_Setor Farmaceutico',\n",
              "       'SETOR_Setor Imobiliário/ Construção Civil', 'SETOR_Setor Público',\n",
              "       'SETOR_Setor de Energia', 'SETOR_Tecnologia/Fábrica de Software',\n",
              "       'SETOR_Telecomunicação', 'SETOR_Varejo', 'SETOR_Área da Saúde',\n",
              "       'SETOR_Área de Consultoria', 'NOVO_NIVEL_Pessoa Gestora',\n",
              "       'NOVO_NIVEL_Pleno', 'NOVO_NIVEL_Sênior', 'REGIAO ONDE MORA_Nordeste',\n",
              "       'REGIAO ONDE MORA_Norte', 'REGIAO ONDE MORA_Sudeste',\n",
              "       'REGIAO ONDE MORA_Sul'],\n",
              "      dtype='object')"
            ]
          },
          "metadata": {},
          "execution_count": 67
        }
      ]
    },
    {
      "cell_type": "code",
      "source": [
        "coefs = pd.DataFrame(model.coef_, columns = [\"coeficientes\"], index =  nomes_atributos )"
      ],
      "metadata": {
        "id": "NS-wIDcsjEgM"
      },
      "execution_count": null,
      "outputs": []
    },
    {
      "cell_type": "code",
      "source": [
        "coefs = coefs.sort_values(by = \"coeficientes\", ascending= False)"
      ],
      "metadata": {
        "id": "urYX-N5Dj8bd"
      },
      "execution_count": null,
      "outputs": []
    },
    {
      "cell_type": "code",
      "source": [
        "coefs.plot.barh(figsize =(8,6))\n",
        "plt.axvline(x= 0, color = \"red\")"
      ],
      "metadata": {
        "colab": {
          "base_uri": "https://localhost:8080/",
          "height": 376
        },
        "id": "ErscuYK0ka6q",
        "outputId": "70ffedb3-71fe-441b-c730-c8138b6b045a"
      },
      "execution_count": null,
      "outputs": [
        {
          "output_type": "execute_result",
          "data": {
            "text/plain": [
              "<matplotlib.lines.Line2D at 0x7e77a8256590>"
            ]
          },
          "metadata": {},
          "execution_count": 74
        },
        {
          "output_type": "display_data",
          "data": {
            "text/plain": [
              "<Figure size 800x600 with 1 Axes>"
            ],
            "image/png": "[encoded data removed]"
          },
          "metadata": {}
        }
      ]
    }
  ]
}